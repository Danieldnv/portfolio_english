{
  "nbformat": 4,
  "nbformat_minor": 0,
  "metadata": {
    "colab": {
      "provenance": []
    },
    "kernelspec": {
      "name": "python3",
      "display_name": "Python 3"
    },
    "language_info": {
      "name": "python"
    }
  },
  "cells": [
    {
      "cell_type": "markdown",
      "source": [
        "A função print é exibida respectivamente. Quando se coloca um texto em aspas simples, o python entende que é somente um texto a ser copiado\n"
      ],
      "metadata": {
        "id": "cJlgN4K-BOYS"
      }
    },
    {
      "cell_type": "markdown",
      "source": [
        "# Nova seção, três tópicos\n"
      ],
      "metadata": {
        "id": "4mS8Hi-KNEaE"
      }
    },
    {
      "cell_type": "code",
      "source": [
        "#Para ser identificado como comentáro e não ser executado no programa, deve anteceder uma '#', ou três aspas para abrir o comentário e fechar\n",
        "''' Para abrir um comentário, basta digitar três aspas, e para fechar, digitar três aspas novamente\n",
        "Dessa forma, é possivel atingir diversas linhas sem precisar digitar '#' em toda linha'''\n",
        "#Python expressa as funções prints respectivamente\n",
        "print(\"Olá\")\n",
        "print('que dia é hoje?')\n",
        "print('tudo bem?')\n",
        "#meu segundo código\n",
        "print('domingo')\n",
        "\n",
        "\n"
      ],
      "metadata": {
        "colab": {
          "base_uri": "https://localhost:8080/"
        },
        "id": "-i-XHbSpBOlX",
        "outputId": "7dfc02f4-9e5f-424a-bed1-c3cf4709804b"
      },
      "execution_count": null,
      "outputs": [
        {
          "output_type": "stream",
          "name": "stdout",
          "text": [
            "Olá\n",
            "que dia é hoje?\n",
            "tudo bem?\n",
            "domingo\n"
          ]
        }
      ]
    },
    {
      "cell_type": "code",
      "source": [
        "''' tipos de dados: é preciso especificar ao python o que está sendo escrito, se são números, textos, etc'''\n",
        "#Python chama texto de \"string\" STRING=TEXTO (STR), e automaticamente quando se coloca \"\" ou '', o pyhton já interpreta como string (TEXTO)\n",
        "\n",
        "#Python reconhece NÚMEROS, como:\n",
        "#INTEGER(inteiros), números inteiros, \"que não possuem fração\" (1,2,3...)\n",
        "#FLOAT(decimais, fração), números que tem fração, números decimais\n",
        "#BOOLEAN TYPE (bool): pode ser true ou false"
      ],
      "metadata": {
        "colab": {
          "base_uri": "https://localhost:8080/",
          "height": 35
        },
        "id": "162QfMxgDOG4",
        "outputId": "89efe333-8ae9-4969-a998-34b0144e2d5f"
      },
      "execution_count": null,
      "outputs": [
        {
          "output_type": "execute_result",
          "data": {
            "text/plain": [
              "' tipos de dados: é preciso especificar ao python o que está sendo escrito, se são números, textos, etc'"
            ],
            "application/vnd.google.colaboratory.intrinsic+json": {
              "type": "string"
            }
          },
          "metadata": {},
          "execution_count": 10
        }
      ]
    },
    {
      "cell_type": "code",
      "source": [
        "''' é possível modificar os tipos de dados (Se eles serão Strings (texto), números inteiros (int, integer), ou decimais (float). '''\n",
        "x= str(3)\n",
        "y= int(4)\n",
        "z= float(5)\n",
        "\n",
        "''' \"x\" foi colocado em formato de string (TEXTO), mesmo sendo um número. \"y\" foi colocado em formato de num inteiro e \"z\" em formato de número\n",
        "decimal. É possível denominar os dados inseridos de diferentes maneiras (mesmo que sejam todos números)e eles serão interpretados de diferentes\n",
        "maneiras'''\n",
        "\n",
        "\n",
        "print(x)\n",
        "print(y)\n",
        "print(z)\n",
        "\n",
        "print('Agora,as diferentes funções de cada variável que foram denominadas de diferentes maneiras serão interpretados de maneiras distintas')\n",
        "\n",
        "print(x+x)\n",
        "print(y+y)\n",
        "print(z+z)"
      ],
      "metadata": {
        "colab": {
          "base_uri": "https://localhost:8080/"
        },
        "id": "NbIYXOFyKUUo",
        "outputId": "5114d4ae-0ff5-44f5-de61-e0f861435114"
      },
      "execution_count": null,
      "outputs": [
        {
          "output_type": "stream",
          "name": "stdout",
          "text": [
            "3\n",
            "4\n",
            "5.0\n",
            "Agora,as diferentes funções de cada variável que foram denominadas de diferentes maneiras serão interpretados de maneiras distintas\n",
            "33\n",
            "8\n",
            "10.0\n"
          ]
        }
      ]
    },
    {
      "cell_type": "markdown",
      "source": [
        "# Nova seção 2"
      ],
      "metadata": {
        "id": "MJ-WTWARNVP_"
      }
    },
    {
      "cell_type": "code",
      "source": [
        "#Criando uma frase, adicionando variáveis e executando ela\n",
        "#Hoje é dia 17, do mês de abril, do ano de 2023. São cinco e vinte\n",
        "\n",
        "#A seguir, as variáveis\n",
        "dia= 17\n",
        "dia= str(dia)\n",
        "\n",
        "mês= \"abril\"\n",
        "ano= '2023'\n",
        "hora= \"cinco e vinte\"\n",
        "\n",
        "#Agora, executando as variaveis na frase\n",
        "\n",
        "print('Hoje é ' + dia + ', do mês de ' + mês + ', do ano de ' + ano + '. São ' + hora + '.')\n"
      ],
      "metadata": {
        "colab": {
          "base_uri": "https://localhost:8080/"
        },
        "id": "daRuf44INZYo",
        "outputId": "39f243a7-64aa-49dc-e6b3-cd6e72b62ad3"
      },
      "execution_count": null,
      "outputs": [
        {
          "output_type": "stream",
          "name": "stdout",
          "text": [
            "Hoje é 17, do mês de abril, do ano de 2023. São cinco e vinte.\n"
          ]
        }
      ]
    },
    {
      "cell_type": "code",
      "source": [
        "#Interagir com usuários (nesse caso perguntando coisas), atravéz do \"input\".\n",
        "'''Agora vamos testar o \"input\", ou seja, perguntar uma informação do usuário e utilizar no programa. Input É quando é solicitado para o usuário\n",
        "interagir com o programa'''\n",
        "\n",
        "dia= input('Que dia é hoje? ')\n",
        "dia= str(dia)\n",
        "\n",
        "mês= input('qual o mês? ')\n",
        "ano= input('Qual o ano? ')\n",
        "hora= input('que horas são? ')\n",
        "\n",
        "print('Hoje é ' + dia + ', do mês de ' + mês + ', do ano de ' + ano + '. São ' + hora + '.')\n",
        "\n"
      ],
      "metadata": {
        "colab": {
          "base_uri": "https://localhost:8080/"
        },
        "id": "1mJqHZxkQuVB",
        "outputId": "6c1b8e83-84eb-4dae-f664-a08418bb20b5"
      },
      "execution_count": null,
      "outputs": [
        {
          "output_type": "stream",
          "name": "stdout",
          "text": [
            "Que dia é hoje? Dia 17\n",
            "qual o mês? Abril\n",
            "Qual o ano? 2023\n",
            "que horas são? 17:58\n",
            "Hoje é Dia 17, do mês de Abril, do ano de 2023. São 17:58.\n"
          ]
        }
      ]
    },
    {
      "cell_type": "code",
      "source": [
        "#Olá, Daniel. Hoje você vai para a faculdade. O seu destino se localiza no Bairro X\n",
        "\n",
        "nome= input('Olá! Qual o seu nome? ')\n",
        "local= input(\"Para onde você vai hoje, \" + nome + \"? \")\n",
        "bairro= input('Certo. Em que bairro se localiza? ')\n",
        "\n",
        "print('Ok, ' + nome + '. Hoje você vai para a ' + local + '. O seu destino se localiza no Bairro ' + bairro + '.')\n"
      ],
      "metadata": {
        "colab": {
          "base_uri": "https://localhost:8080/"
        },
        "id": "BFR_uaieSfDU",
        "outputId": "1fa94048-49d0-4c8a-8865-8ad90f3f501e"
      },
      "execution_count": null,
      "outputs": [
        {
          "output_type": "stream",
          "name": "stdout",
          "text": [
            "Olá! Qual o seu nome? daniel\n",
            "Para onde você vai hoje, daniel? Faculdade\n",
            "Certo. Em que bairro se localiza? Boa Vista\n",
            "Ok, daniel. Hoje você vai para a Faculdade. O seu destino se localiza no Bairro Boa Vista.\n"
          ]
        }
      ]
    },
    {
      "cell_type": "code",
      "source": [
        "#Crie mais programas do gênero"
      ],
      "metadata": {
        "id": "Gmc4Q51HXAiw"
      },
      "execution_count": null,
      "outputs": []
    },
    {
      "cell_type": "markdown",
      "source": [
        "# Nova seção 3"
      ],
      "metadata": {
        "id": "77rgyqGW2rfj"
      }
    },
    {
      "cell_type": "code",
      "source": [
        "'''Aqui vamos alterar o tipo das variaveis para fazê-las funcionar na frase. primeiro alteramos ano_nascimento para 'int' (número), para assim\n",
        "conseguir fazer a subtração. Depois subtituímos idade em str, para encaixar na frase exibida no final, pois int (tipo anterior dessa variável)\n",
        "não se encaixa no print final'''\n",
        "\n",
        "ano_nascimento= input('Olá! em que ano você nasceu? ')\n",
        "idade= 2023 - int(ano_nascimento)\n",
        "\n",
        "print('você tem ' + str(idade) + ' anos.')\n"
      ],
      "metadata": {
        "colab": {
          "base_uri": "https://localhost:8080/"
        },
        "id": "L_spgReq2vOx",
        "outputId": "8313d271-419e-4c2c-e91e-5b169b7a1183"
      },
      "execution_count": null,
      "outputs": [
        {
          "output_type": "stream",
          "name": "stdout",
          "text": [
            "Olá! em que ano você nasceu? 1972\n",
            "você tem 51 anos.\n"
          ]
        }
      ]
    },
    {
      "cell_type": "code",
      "source": [
        "#Agora vamos trabalhar SLICE (cortar)\n",
        "#Cada caractere do \"abacate\" ganha uma posição dentro da variável, chamada de index\n",
        "# Ex:  Abacate\n",
        "#index:0123456   0=A... INDEX é representado pelos colchetes[], onde se coloca o index desejado\n",
        "'''funciona apenas com strings'''\n",
        "\n",
        "fruta= 'abacate'\n",
        "print(fruta[0])\n",
        "print(fruta[1:5] + ':: (Agora exibindo um index maior, nesse caso, [1:5] index 1 até o 5)')\n",
        "#Se colocar de 1:5 (index 1 até o 5), ele exibe até o index 4. Sempre um index antes\n",
        "\n",
        "print('Agora com valores, lembre que index só se relaciona com string. É necessário converter')\n",
        "\n",
        "valor= str(99.75)\n",
        "print(valor[1] +'  ' + valor)\n",
        "print(valor[3:5])\n",
        "print(valor[1:] + ' :Nesse caso, coloquei[1:], para que exiba do index 1 até o último')"
      ],
      "metadata": {
        "colab": {
          "base_uri": "https://localhost:8080/"
        },
        "id": "PLYovsBq8OwF",
        "outputId": "2b0637a3-e7db-45ec-e0b7-a4f9ef81c388"
      },
      "execution_count": null,
      "outputs": [
        {
          "output_type": "stream",
          "name": "stdout",
          "text": [
            "a\n",
            "baca:: (Agora exibindo um index maior, nesse caso, [1:5] index 1 até o 5)\n",
            "Agora com valores, lembre que index só se relaciona com string. É necessário converter\n",
            "9  99.75\n",
            "75\n",
            "9.75 :Nesse caso, coloquei[1:], para que exiba do index 1 até o último\n"
          ]
        }
      ]
    },
    {
      "cell_type": "code",
      "source": [
        "#Vamos trabalhar com STRINGS FORMATADAS\n",
        "# É possivel escrever strings sem dar tantos comandos, de maneira mais simples. Fica mais facil incluir variáveis, pois elas são inclusas como str\n",
        "#A frase é escrita de maneira \"corrida\"\n",
        "#ex: Daniel Tem 17 anos e cursa [Economia]\n",
        "\n",
        "#sem string formatada\n",
        "\n",
        "nome= 'Daniel'\n",
        "idade= '17'\n",
        "curso= 'Economia'\n",
        "print(nome +' tem ' + idade + ' anos '+ 'e cursa ' + '['+ curso +']' )\n",
        "\n",
        "#Com string formatada\n",
        "#coloca-se as variáveis em colchetes {}, não precisa sinal de \"+\" e não precisa colocar aspas quando for string.\n",
        "\n",
        "print(f'{nome} tem {idade} anos e cursa [{curso.upper()}] ')\n"
      ],
      "metadata": {
        "colab": {
          "base_uri": "https://localhost:8080/"
        },
        "id": "cCHAKgiU3u9w",
        "outputId": "c6d23e38-76d4-47c4-a911-5549ad6e2f63"
      },
      "execution_count": null,
      "outputs": [
        {
          "output_type": "stream",
          "name": "stdout",
          "text": [
            "Daniel tem 17 anos e cursa [Economia]\n",
            "Daniel tem 17 anos e cursa [ECONOMIA] \n"
          ]
        }
      ]
    },
    {
      "cell_type": "code",
      "source": [
        "#Agora vamos aprender métodos para strings, ou seja, métodos para modificar strings. Imprimir toda minúscula, maiúscula, 1ª letra maíuscula etc\n",
        "\n",
        "mensagem= 'Eu adoro comida japonesa'\n",
        "print(mensagem.lower())\n",
        "#nesse caso, toda a variável torna-se escrita em letra minúscula\n",
        "print('')\n",
        "print(mensagem.upper())\n",
        "#acima colocamos toda a frase da variável \"mensagem\" em upper, ou seja, letra maiúscula\n",
        "\n",
        "print(mensagem.find(\"a\"))\n",
        "#acima foi colocado o método \"find\", para encontrar a letra desejada, que tem a localização indicada a partir do index\n",
        "print(mensagem.find('japonesa')) #esse método indica o index onde começa a palavra \"japonesa\" na frase\n",
        "\n",
        "#agora vamos substituir uma palavra, frase ou letra da \"mensagem\"\n",
        "print(mensagem.replace('adoro','gosto muito de'))#'adoro' foi subtituído por 'gosto muito de' na hora de print a 'mensagem'\n",
        "print(mensagem.replace('a','e'))\n",
        "print('')\n",
        "\n",
        "#agora vamos usar o strip. O strip remove qualquer espaço que existe antes do primeiro caractere\n",
        "mensagem2= '       Eu adoro comida japonesa (sem aplicar o strip)'\n",
        "print(mensagem2)\n",
        "print(mensagem2.strip().replace('(sem aplicar o strip)','(Com o strip aplicado)'))\n",
        "#É POSSÍVEL USAR DOIS MÉTODOS\n",
        "\n",
        "\n"
      ],
      "metadata": {
        "id": "Yz4jGqvM-GdJ",
        "colab": {
          "base_uri": "https://localhost:8080/"
        },
        "outputId": "f3ec5b3f-ac32-4e23-c368-81ee49f07c37"
      },
      "execution_count": null,
      "outputs": [
        {
          "output_type": "stream",
          "name": "stdout",
          "text": [
            "eu adoro comida japonesa\n",
            "\n",
            "EU ADORO COMIDA JAPONESA\n",
            "3\n",
            "16\n",
            "Eu gosto muito de comida japonesa\n",
            "Eu edoro comide jeponese\n",
            "\n",
            "       Eu adoro comida japonesa (sem aplicar o strip)\n",
            "Eu adoro comida japonesa (Com o strip aplicado)\n"
          ]
        }
      ]
    },
    {
      "cell_type": "markdown",
      "source": [
        "# Nova seção 4\n"
      ],
      "metadata": {
        "id": "W7V9s6BgzShb"
      }
    },
    {
      "cell_type": "markdown",
      "source": [
        "# Nova seção"
      ],
      "metadata": {
        "id": "OCQGYULsEYgf"
      }
    },
    {
      "cell_type": "markdown",
      "source": [
        "# Nova seção"
      ],
      "metadata": {
        "id": "l_1OysLGEZ1-"
      }
    },
    {
      "cell_type": "code",
      "source": [
        "#Agora veremos Operadores de comparação\n",
        "\n",
        "#         == Equal (pergunta ao programa se x == x (se x é igual a x))\n",
        "#         != not equal\n",
        "#         > grater than\n",
        "#         < less than\n",
        "#         >= grater than or equal\n",
        "#         <= less than or equal\n",
        "operador1= 12==20\n",
        "operador2= 10!=10\n",
        "operador3= 10>5\n",
        "operador4= 20<200\n",
        "operador5= 10>=10\n",
        "\n",
        "print(f'12==20 {operador1}')\n",
        "print(f'10!=10 {operador2}')\n",
        "print(f'10>5 {operador3}' )\n",
        "print(f'20<200 {operador4}')\n",
        "print(f'10>=10 {operador5}')\n",
        "\n",
        "\n",
        "\n",
        "\n",
        "\n"
      ],
      "metadata": {
        "colab": {
          "base_uri": "https://localhost:8080/"
        },
        "id": "cuPqFxbSzYFy",
        "outputId": "d9a0d37b-5fe6-4bc9-c028-621045ab6238"
      },
      "execution_count": null,
      "outputs": [
        {
          "output_type": "stream",
          "name": "stdout",
          "text": [
            "12==20 False\n",
            "10!=10 False\n",
            "10>5 True\n",
            "20<200 True\n",
            "10>=10 True\n"
          ]
        }
      ]
    },
    {
      "cell_type": "code",
      "source": [
        "# Assignment operators (Operadores de atribuição)\n",
        "#Agora vamos incluir um valor em uma variável, modificando ela, porém, com menos comandos\n",
        "\n",
        "x=10\n",
        "x= x+5\n",
        "print(x)\n",
        "#Acima colocamos o valor de x, e adicionamos 5 a ele\n",
        "#para fazer isso de maneira mais simples:\n",
        "\n",
        "x=10\n",
        "   # x += 3   utiliza-se o sinal da operação desejada, acompanhando um igual (adiciona um 5 ao x, como feito acima)\n",
        "   # x -= 5\n",
        "   # x *= 5\n",
        "   # x /= 2\n",
        "   # x %= 3 , nesse caso, ele divide x por 3 e \"exibe apenas o resto\" da divisão\n",
        "x%=7\n",
        "print(x)\n",
        "\n"
      ],
      "metadata": {
        "colab": {
          "base_uri": "https://localhost:8080/"
        },
        "id": "StYC9yeacmlI",
        "outputId": "f84e2a85-dcee-4133-dc07-d68c460833d0"
      },
      "execution_count": null,
      "outputs": [
        {
          "output_type": "stream",
          "name": "stdout",
          "text": [
            "15\n",
            "3\n"
          ]
        }
      ]
    },
    {
      "cell_type": "code",
      "source": [
        "#agora vamos usar if/else, é como uma formatação condicional\n",
        "#nesse caso, a velocidade limite é 110. Vamos criar 3 situações:\n",
        "#O carrro que estiver abaixo de 60 será avisado, o que estiver acima será avisado e o que estiver correto será avisado\n",
        "\n",
        "velocidade= input('Qual a sua velocidade atual? ')\n",
        "velocidade= int(velocidade)\n",
        "\n",
        "\n",
        "if velocidade > 110:\n",
        "  print('Acima da velocidade permitida.')\n",
        "  print('Favor reduza a velocidade')\n",
        "\n",
        "elif velocidade<60:\n",
        "  print('Velocidade muito baixa')\n",
        "  print('Aumente a velocidade')\n",
        "\n",
        "elif velocidade==110:\n",
        "  print('Você está exatamente no limite de velocidade permitido nesta via')\n",
        "\n",
        "else:\n",
        "  print('Velocidade dentro do limite permitido')\n",
        "\n"
      ],
      "metadata": {
        "colab": {
          "base_uri": "https://localhost:8080/"
        },
        "id": "BsfwSHMdhedw",
        "outputId": "d3292a16-1d33-42d6-8307-9f80377eec78"
      },
      "execution_count": null,
      "outputs": [
        {
          "output_type": "stream",
          "name": "stdout",
          "text": [
            "Qual a sua velocidade atual? 110\n",
            "Você está exatamente no limite de velocidade permitido nesta via\n"
          ]
        }
      ]
    },
    {
      "cell_type": "code",
      "source": [
        "#agora vamos trabalhar com operadores lógicos, ou seja, multiplos operadores \"<,>,if,or,<=...\"\n",
        "valor= input('Qual o valor do seu produto?')\n",
        "valor= int(valor)\n",
        "if valor>= 20 and valor <40:\n",
        "  print('O produto foi aceito')\n",
        "else:\n",
        "  print('O produto não foi aceito')"
      ],
      "metadata": {
        "id": "C3Rew2MBxa_a",
        "colab": {
          "base_uri": "https://localhost:8080/"
        },
        "outputId": "cf8fcbad-3fdc-4259-c0a6-4d6723dfaa28"
      },
      "execution_count": null,
      "outputs": [
        {
          "output_type": "stream",
          "name": "stdout",
          "text": [
            "Qual o valor do seu produto?30\n",
            "O produto foi aceito\n"
          ]
        }
      ]
    }
  ]
}